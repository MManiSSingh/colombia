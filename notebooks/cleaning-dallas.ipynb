{
 "cells": [
  {
   "cell_type": "code",
   "execution_count": 1,
   "metadata": {},
   "outputs": [],
   "source": [
    "import numpy as np\n",
    "import pandas as pd\n",
    "import geopandas as gd\n",
    "import altair as alt\n",
    "import unicodedata"
   ]
  },
  {
   "cell_type": "markdown",
   "metadata": {},
   "source": [
    "---\n",
    "\n",
    "### mapa_municipios.json cleaning"
   ]
  },
  {
   "cell_type": "code",
   "execution_count": 2,
   "metadata": {},
   "outputs": [
    {
     "name": "stderr",
     "output_type": "stream",
     "text": [
      "/var/folders/5v/mphxd9d54wb59kvm9tlf4pj40000gn/T/ipykernel_2664/3460200609.py:16: UserWarning: Geometry is in a geographic CRS. Results from 'area' are likely incorrect. Use 'GeoSeries.to_crs()' to re-project geometries to a projected CRS before this operation.\n",
      "\n",
      "  df_mapa[\"area\"] = df_mapa['geometry'].area\n"
     ]
    }
   ],
   "source": [
    "df_mapa = gd.read_file('../data/raw/mapa_municipios.json', encoding='utf-8')\n",
    "\n",
    "# drop irrelevant data\n",
    "df_mapa = df_mapa.drop(columns=['id', 'codigo_municipio_s'])\n",
    "\n",
    "# rename columns\n",
    "df_mapa.columns = ['id', 'geometry']\n",
    "\n",
    "# correct data types\n",
    "df_mapa['id'] = df_mapa['id'].astype(np.int64)\n",
    "\n",
    "# setting the correct crs\n",
    "df_mapa = df_mapa.set_crs(\"EPSG:4326\").to_crs(\"EPSG:4326\")\n",
    "\n",
    "# adding area columns\n",
    "df_mapa[\"area\"] = df_mapa['geometry'].area\n",
    "\n",
    "# df_mapa.sample(3)"
   ]
  },
  {
   "cell_type": "code",
   "execution_count": 3,
   "metadata": {},
   "outputs": [],
   "source": [
    "# df_mapa.info()"
   ]
  },
  {
   "cell_type": "markdown",
   "metadata": {},
   "source": [
    "---\n",
    "\n",
    "### metadata.csv cleaning"
   ]
  },
  {
   "cell_type": "code",
   "execution_count": 4,
   "metadata": {},
   "outputs": [],
   "source": [
    "# read the data\n",
    "df_metadata = gd.read_file('../data/raw/metadata.csv', encoding='utf-8')\n",
    "\n",
    "# drop irrelevant data\n",
    "startswith_remove = (\n",
    "    \"2\",\n",
    "    \"Build\",\n",
    "    \"TEMP\",\n",
    "    \"PREC\",\n",
    "    \"Numb\",\n",
    "    \"Retire\",\n",
    "    \"Age\"\n",
    ")\n",
    "exact_remove = {\n",
    "    \"NumberofhospitalsperKm2\",\n",
    "    \"Peopledoinghousework(%)\",\n",
    "    \"PeoplewithDisabilities(%)\",\n",
    "    \"AfrocolombianPopulation(%)\",\n",
    "    \"IndianPopulation(%)\",\n",
    "}\n",
    "df_metadata = df_metadata.loc[:, ~df_metadata.columns.str.startswith(startswith_remove)]\n",
    "df_metadata = df_metadata.loc[:, ~df_metadata.columns.isin(exact_remove)]\n",
    "\n",
    "# rename columns\n",
    "df_metadata = df_metadata.rename(columns={\n",
    "    'Municipality code': 'id',\n",
    "    'Municipality': 'name',\n",
    "    'Peoplewhocannotreadorwrite(%)': 'illiterate',\n",
    "    'Secondary/HigherEducation(%)': 'education',\n",
    "    'Employedpopulation(%)': 'employed',\n",
    "    'Unemployedpopulation(%)': 'unemployed',\n",
    "    'Men(%)': 'men',\n",
    "    'Women(%)': 'women',\n",
    "    'Householdswithoutwateraccess(%)': 'water',\n",
    "    'Householdswithoutinternetaccess(%)': 'internet'\n",
    "})\n",
    "df_metadata.columns = [\n",
    "    col.replace(\"Population\", \"pop\")\n",
    "    if col.startswith(\"Population\") else col\n",
    "    for col in df_metadata.columns\n",
    "]\n",
    "df_metadata.columns = df_metadata.columns.str.lower()\n",
    "\n",
    "# correcting data types\n",
    "float_cols = [\n",
    "    \"illiterate\", \"education\", \"employed\", \"unemployed\",\n",
    "    \"men\", \"women\", \"water\", \"internet\"\n",
    "]\n",
    "\n",
    "int_cols = [\n",
    "    \"id\", \"pop2007\", \"pop2008\", \"pop2009\", \"pop2010\",\n",
    "    \"pop2011\", \"pop2012\", \"pop2013\", \"pop2014\", \"pop2015\",\n",
    "    \"pop2016\", \"pop2017\", \"pop2018\", \"pop2019\",\n",
    "    \"cases2007\", \"cases2008\", \"cases2009\", \"cases2010\",\n",
    "    \"cases2011\", \"cases2012\", \"cases2013\", \"cases2014\",\n",
    "    \"cases2015\", \"cases2016\", \"cases2017\", \"cases2018\", \"cases2019\"\n",
    "]\n",
    "df_metadata[float_cols] = df_metadata[float_cols].astype(\"float64\")\n",
    "df_metadata[int_cols] = df_metadata[int_cols].astype(\"int64\")\n",
    "\n",
    "# df_metadata.sample(3)"
   ]
  },
  {
   "cell_type": "code",
   "execution_count": 5,
   "metadata": {},
   "outputs": [],
   "source": [
    "# df_metadata.info()"
   ]
  },
  {
   "cell_type": "markdown",
   "metadata": {},
   "source": [
    "---\n",
    "\n",
    "### master dataset creation"
   ]
  },
  {
   "cell_type": "code",
   "execution_count": 6,
   "metadata": {},
   "outputs": [],
   "source": [
    "# merge geometry and metadata\n",
    "df_master = df_mapa.merge(df_metadata, on=\"id\", how=\"left\")\n",
    "\n",
    "# reordering columns\n",
    "columns_order = [\n",
    "    \"id\", \"name\", \"illiterate\", \"education\", \"employed\", \"unemployed\",\n",
    "    \"water\", \"internet\", \"men\", \"women\",\n",
    "    \"pop2007\", \"pop2008\", \"pop2009\", \"pop2010\", \"pop2011\", \"pop2012\",\n",
    "    \"pop2013\", \"pop2014\", \"pop2015\", \"pop2016\", \"pop2017\", \"pop2018\", \"pop2019\",\n",
    "    \"cases2007\", \"cases2008\", \"cases2009\", \"cases2010\", \"cases2011\", \"cases2012\",\n",
    "    \"cases2013\", \"cases2014\", \"cases2015\", \"cases2016\", \"cases2017\", \"cases2018\", \"cases2019\",\n",
    "    \"area\", \"geometry\"\n",
    "]\n",
    "df_master = df_master.reindex(columns=columns_order)\n",
    "\n",
    "# df_master.sample(3)"
   ]
  },
  {
   "cell_type": "code",
   "execution_count": 7,
   "metadata": {},
   "outputs": [],
   "source": [
    "# df_master.info()"
   ]
  },
  {
   "cell_type": "markdown",
   "metadata": {},
   "source": [
    "---\n",
    "\n",
    "### map check"
   ]
  },
  {
   "cell_type": "code",
   "execution_count": 8,
   "metadata": {},
   "outputs": [],
   "source": [
    "# # shapes\n",
    "# (\n",
    "#     alt\n",
    "#     .Chart(df_master)\n",
    "#     .mark_geoshape()\n",
    "#     .encode(\n",
    "#         tooltip=['municipal:N']\n",
    "#     )\n",
    "#     .project(\n",
    "#         type='mercator'\n",
    "#     )\n",
    "#     .properties(\n",
    "#         width=800,\n",
    "#         height=800\n",
    "#     )\n",
    "# )"
   ]
  },
  {
   "cell_type": "code",
   "execution_count": 9,
   "metadata": {},
   "outputs": [],
   "source": [
    "# # shapes\n",
    "# temp = df_master.copy()\n",
    "\n",
    "# # population density\n",
    "# temp[\"density2019\"] = df_master[\"pop2019\"] / df_master[\"area\"]\n",
    "\n",
    "# (\n",
    "#     alt.Chart(temp)\n",
    "#     .mark_geoshape()\n",
    "#     .encode(\n",
    "#         tooltip=[\"name:N\", 'pop2019:Q', 'area:Q'],\n",
    "#         color=alt.Color(\"density2019:Q\", scale=alt.Scale(type=\"log\", scheme=\"reds\"), title='People per km²')\n",
    "#     )\n",
    "#     .project(type=\"mercator\")\n",
    "#     .properties(width=600, height=600, title='Colombia 2019 Population Density')\n",
    "# )"
   ]
  },
  {
   "cell_type": "markdown",
   "metadata": {},
   "source": [
    "---\n",
    "\n",
    "### export to separate files"
   ]
  },
  {
   "cell_type": "code",
   "execution_count": null,
   "metadata": {},
   "outputs": [],
   "source": [
    "# df_metadata.to_csv('../data/meta.csv', index=None)\n",
    "# df_mapa.to_file('../data/geo.geojson', driver='GeoJSON')\n",
    "# df_master.to_file('../data/master.geojson', driver='GeoJSON')"
   ]
  },
  {
   "cell_type": "code",
   "execution_count": null,
   "metadata": {},
   "outputs": [],
   "source": []
  }
 ],
 "metadata": {
  "kernelspec": {
   "display_name": "dsc80",
   "language": "python",
   "name": "python3"
  },
  "language_info": {
   "codemirror_mode": {
    "name": "ipython",
    "version": 3
   },
   "file_extension": ".py",
   "mimetype": "text/x-python",
   "name": "python",
   "nbconvert_exporter": "python",
   "pygments_lexer": "ipython3",
   "version": "3.12.3"
  }
 },
 "nbformat": 4,
 "nbformat_minor": 2
}
